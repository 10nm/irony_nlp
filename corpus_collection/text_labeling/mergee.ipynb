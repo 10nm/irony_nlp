{
 "cells": [
  {
   "cell_type": "code",
   "execution_count": 1,
   "metadata": {},
   "outputs": [],
   "source": [
    "target = \"./work/2_ljp/ljp_MG.csv\"\n",
    "source = \"./save.csv\""
   ]
  },
  {
   "cell_type": "code",
   "execution_count": 2,
   "metadata": {},
   "outputs": [],
   "source": [
    "import pandas as pd \n",
    "\n",
    "# CSVファイルを読み込む\n",
    "df1 = pd.read_csv(target)\n",
    "df2 = pd.read_csv(source)\n",
    "\n",
    "# df1を優先して結合\n",
    "combined_df = df1.combine_first(df2)\n",
    "\n",
    "# 結合したデータフレームを新しいCSVファイルに保存\n",
    "combined_df.to_csv('combined_file.csv', index=False)"
   ]
  }
 ],
 "metadata": {
  "kernelspec": {
   "display_name": "Python 3",
   "language": "python",
   "name": "python3"
  },
  "language_info": {
   "codemirror_mode": {
    "name": "ipython",
    "version": 3
   },
   "file_extension": ".py",
   "mimetype": "text/x-python",
   "name": "python",
   "nbconvert_exporter": "python",
   "pygments_lexer": "ipython3",
   "version": "3.12.4"
  }
 },
 "nbformat": 4,
 "nbformat_minor": 2
}
