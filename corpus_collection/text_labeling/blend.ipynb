{
 "cells": [
  {
   "cell_type": "markdown",
   "metadata": {},
   "source": [
    "# Blend corpus"
   ]
  },
  {
   "cell_type": "code",
   "execution_count": 3,
   "metadata": {},
   "outputs": [
    {
     "ename": "KeyError",
     "evalue": "'label'",
     "output_type": "error",
     "traceback": [
      "\u001b[0;31m---------------------------------------------------------------------------\u001b[0m",
      "\u001b[0;31mKeyError\u001b[0m                                  Traceback (most recent call last)",
      "Cell \u001b[0;32mIn[3], line 24\u001b[0m\n\u001b[1;32m     22\u001b[0m \u001b[38;5;28;01mif\u001b[39;00m i \u001b[38;5;241m>\u001b[39m \u001b[38;5;241m2000\u001b[39m:\n\u001b[1;32m     23\u001b[0m     \u001b[38;5;28;01mbreak\u001b[39;00m\n\u001b[0;32m---> 24\u001b[0m label_str \u001b[38;5;241m=\u001b[39m \u001b[43mrow\u001b[49m\u001b[43m[\u001b[49m\u001b[38;5;124;43m\"\u001b[39;49m\u001b[38;5;124;43mlabel\u001b[39;49m\u001b[38;5;124;43m\"\u001b[39;49m\u001b[43m]\u001b[49m\n\u001b[1;32m     25\u001b[0m \u001b[38;5;28;01mif\u001b[39;00m \u001b[38;5;28mstr\u001b[39m(label_str) \u001b[38;5;241m!=\u001b[39m \u001b[38;5;124m\"\u001b[39m\u001b[38;5;124m\"\u001b[39m:  \u001b[38;5;66;03m# 空文字列でないかチェック\u001b[39;00m\n\u001b[1;32m     26\u001b[0m     label_value \u001b[38;5;241m=\u001b[39m \u001b[38;5;28mint\u001b[39m(\u001b[38;5;28mfloat\u001b[39m(label_str))\n",
      "\u001b[0;31mKeyError\u001b[0m: 'label'"
     ]
    }
   ],
   "source": [
    "import csv\n",
    "\n",
    "# Increase the field size limit\n",
    "csv.field_size_limit(10**6)\n",
    "\n",
    "save_path = str(input(\"Enter the path to save: \"))\n",
    "target_num = int(input(\"Enter the target number: \"))\n",
    "load_1 = \"work/1_n4v/n4v.csv\"\n",
    "load_2 = \"work/2_ljp/combined_file.csv\"\n",
    "load_3 = \"work/3_nwp/nwp.csv\"\n",
    "# load_list = [load_1, load_2, load_3]\n",
    "load_list = [load_2]\n",
    "\n",
    "\n",
    "matching_utr = []\n",
    "matching_res = []\n",
    "\n",
    "for load in load_list:\n",
    "    with open(load, \"r\") as f:\n",
    "        reader = csv.DictReader(f)\n",
    "        for i, row in enumerate(reader):\n",
    "            if i > 2000:\n",
    "                break\n",
    "            label_str = row[\"label\"]\n",
    "            if str(label_str) != \"\":  # 空文字列でないかチェック\n",
    "                label_value = int(float(label_str))\n",
    "                if label_value == target_num:\n",
    "                    matching_utr.append(row[\"Utterance\"])\n",
    "                    matching_res.append(row[\"Response\"])\n",
    "\n",
    "print(f\"Matching Utterances: {matching_utr}\")\n",
    "print(f\"Matching responses: {matching_res}\")\n",
    "\n",
    "# shuffle the data\n",
    "import random\n",
    "random.seed(0)\n",
    "random.shuffle(matching_utr)\n",
    "random.seed(0)\n",
    "random.shuffle(matching_res)\n",
    "\n",
    "# 先頭100個に絞る\n",
    "matching_utr = matching_utr[:1000]\n",
    "matching_res = matching_res[:1000]\n",
    "\n",
    "with open(save_path, \"w\") as f:\n",
    "    writer = csv.writer(f)\n",
    "    writer.writerow([\"Utterance\", \"Response\"])\n",
    "    for i in range(len(matching_utr)):\n",
    "        writer.writerow([matching_utr[i], matching_res[i]])"
   ]
  }
 ],
 "metadata": {
  "kernelspec": {
   "display_name": "Python 3",
   "language": "python",
   "name": "python3"
  },
  "language_info": {
   "codemirror_mode": {
    "name": "ipython",
    "version": 3
   },
   "file_extension": ".py",
   "mimetype": "text/x-python",
   "name": "python",
   "nbconvert_exporter": "python",
   "pygments_lexer": "ipython3",
   "version": "3.12.4"
  }
 },
 "nbformat": 4,
 "nbformat_minor": 2
}
