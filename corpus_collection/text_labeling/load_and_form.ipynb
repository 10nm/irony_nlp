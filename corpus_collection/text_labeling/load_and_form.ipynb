{
 "cells": [
  {
   "cell_type": "markdown",
   "metadata": {},
   "source": [
    "# load csv"
   ]
  },
  {
   "cell_type": "code",
   "execution_count": 4,
   "metadata": {},
   "outputs": [
    {
     "name": "stdout",
     "output_type": "stream",
     "text": [
      "DatasetDict({\n",
      "    train: Dataset({\n",
      "        features: ['dialogue', 'board'],\n",
      "        num_rows: 8134707\n",
      "    })\n",
      "})\n",
      "livejupiter\n"
     ]
    }
   ],
   "source": [
    "from datasets import load_dataset\n",
    "import csv \n",
    "\n",
    "# Hugging Faceのデータセットを読み込む\n",
    "ds = load_dataset(\n",
    "    \"p1atdev/open2ch\",    # データセット名\n",
    "    name=\"all-corpus\",    # サブセット名\n",
    ")\n",
    "\n",
    "# データセットの中身を確認\n",
    "print(ds)\n",
    "num_rows = len(ds[\"train\"])\n",
    "print(ds[\"train\"][0]['board'])\n",
    "\n",
    "# target = list(set(ds[\"train\"][i]['board'] for i in range(num_rows)))\n",
    "target = ['news4vip', 'livejupiter', 'newsplus'] \n",
    "# 0: news4vip, 1: livejupiter, 2: newsplus\n",
    "num = 2"
   ]
  },
  {
   "cell_type": "markdown",
   "metadata": {},
   "source": [
    "読み込んだcsvから、対話が2項のものを抽出"
   ]
  },
  {
   "cell_type": "code",
   "execution_count": 5,
   "metadata": {},
   "outputs": [],
   "source": [
    "utrs = [] # utterance\n",
    "ress = [] # response\n",
    "for el in ds[\"train\"]:\n",
    "    if el[\"board\"] == target[num]:\n",
    "        contents = el[\"dialogue\"][\"content\"]\n",
    "        if len(contents) == 2:\n",
    "            Utterance = contents[0].replace('\\n', '')\n",
    "            Response = contents[1].replace('\\n', '')\n",
    "            utrs.append(Utterance)\n",
    "            ress.append(Response)"
   ]
  },
  {
   "cell_type": "markdown",
   "metadata": {},
   "source": [
    "別ファイルに発話、応答別に保存する"
   ]
  },
  {
   "cell_type": "code",
   "execution_count": 6,
   "metadata": {},
   "outputs": [],
   "source": [
    "filename = f\"./source_corpus/{target[num]}_corpus.csv\"\n",
    "with open(filename, \"w\", newline='') as f:\n",
    "    writer = csv.writer(f)\n",
    "    writer.writerow([\"Utterance\", \"Response\"])\n",
    "    for utr, res in zip(utrs, ress):\n",
    "        writer.writerow([utr, res])"
   ]
  }
 ],
 "metadata": {
  "kernelspec": {
   "display_name": "Python 3",
   "language": "python",
   "name": "python3"
  },
  "language_info": {
   "codemirror_mode": {
    "name": "ipython",
    "version": 3
   },
   "file_extension": ".py",
   "mimetype": "text/x-python",
   "name": "python",
   "nbconvert_exporter": "python",
   "pygments_lexer": "ipython3",
   "version": "3.12.4"
  }
 },
 "nbformat": 4,
 "nbformat_minor": 2
}
