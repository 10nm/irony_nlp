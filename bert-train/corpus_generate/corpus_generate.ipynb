{
 "cells": [
  {
   "cell_type": "markdown",
   "metadata": {},
   "source": [
    "### 対話皮肉データセット拡張生成"
   ]
  },
  {
   "cell_type": "code",
   "execution_count": 55,
   "metadata": {},
   "outputs": [],
   "source": [
    "import cohere, os, csv, re, time, json, signal, sys, pandas as pd\n",
    "\n",
    "api_key = os.getenv(\"CO_API_KEY\")\n",
    "\n",
    "co = cohere.Client(\n",
    "    api_key=api_key,\n",
    ")\n",
    "\n",
    "source_file = \"./text_labeling/collected/notirony.csv\""
   ]
  },
  {
   "cell_type": "markdown",
   "metadata": {},
   "source": [
    "### Load source corpus"
   ]
  },
  {
   "cell_type": "code",
   "execution_count": 56,
   "metadata": {},
   "outputs": [],
   "source": [
    "data = pd.read_csv(source_file, encoding=\"utf-8\")\n",
    "\n",
    "# with open(source_file, newline=\"\", encoding=\"utf-8\") as f:\n",
    "#     reader = csv.DictReader(f)\n",
    "#     fieldnames = reader.fieldnames\n",
    "\n",
    "#     if 'conv' not in fieldnames:\n",
    "#         fieldnames.append('conv')\n",
    "#         print(\"Filled with None\")\n",
    "    \n",
    "#     for row in reader:\n",
    "#         if row['conv'] is not None:\n",
    "#             continue\n",
    "#         if count > 10:\n",
    "#             break\n",
    "#         count += 1\n",
    "#         if \"conv\" not in row:\n",
    "#             row[\"conv\"] = None\n",
    "#         source.append(row)\n",
    "#     print(f\"Loaded {count} rows\")"
   ]
  },
  {
   "cell_type": "markdown",
   "metadata": {},
   "source": [
    "### Save converted corpus"
   ]
  },
  {
   "cell_type": "code",
   "execution_count": 57,
   "metadata": {},
   "outputs": [],
   "source": [
    "def save_csv(data):\n",
    "    data.to_csv(\"testssss2.csv\", index=False, encoding=\"utf-8\")\n",
    "    print(f\"Saved {len(data)} rows\")"
   ]
  },
  {
   "cell_type": "markdown",
   "metadata": {},
   "source": [
    "### Converting text to irony"
   ]
  },
  {
   "cell_type": "code",
   "execution_count": null,
   "metadata": {},
   "outputs": [
    {
     "name": "stdout",
     "output_type": "stream",
     "text": [
      "gxvnxDtEbfTaAHipN5zBdiBMsw7yYtAVelj8CfSL\n",
      "1\n",
      "2\n",
      "3\n",
      "4\n",
      "5\n",
      "6\n",
      "7\n",
      "8\n",
      "9\n",
      "10\n",
      "ごきげんよう皆様 \n",
      " 他に立ってますでしょうか？\n",
      "Converted: ごきげんよう。私も立っていますよ、あなたの期待通りに。\n",
      "11\n",
      "今まで今日の試合中レス無しとかマジ？\n",
      "Converted: そうやで、鷹さんに集中してたからな。君の応援は聞こえてたよ、ありがとう。\n",
      "12\n",
      "コンビニ袋に小銭入れて振り回してみ？ \n",
      " 車のガラスでも砕けるで\n",
      "Converted: なるほど、コンビニ袋に小銭を入れて振り回すだけで、車のガラスが割れるなんて、とても便利なテクニックですね！ そんな方法で簡単にガラスを割れるなら、万が一、車内に閉じ込められても安心です。素晴らしいアイデアをありがとうございます！\n",
      "13\n",
      "てか今一番人気の同人ってなんや？艦これか？\n",
      "Converted: 艦これ？ああ、あれね。人気があるのは知ってるよ。でも、あれってさ、本当に面白いのかな？まあ、あなたが好きなのはわかるけど、個人的にはちょっと...ね。\n",
      "14\n",
      "お前だけなんだよゴミ\n",
      "Converted: ご名答！君こそこの世のゴミそのものだね。その自覚があるなら、もう少し謙虚に生きてみたら？\n",
      "15\n",
      "得点との相関関係が高いOPSでイチローは松井に完敗 \n",
      " これが全て\n",
      "Converted: なるほど、OPSだけ見ればそうかもしれませんね。\n",
      "16\n",
      "その教師ガイジやな \n",
      " エタヒニンを知っとる→差別主義者とでも思ってるんやろ？\n",
      "Converted: そうだね、君のその鋭い洞察力にはいつも感心するよ。君こそ、このスレの真のガイジなんじゃないかな？\n",
      "17\n",
      "中田使うのか...\n",
      "Converted: そうだね、中田選手の起用はまさに\"英断\"だね。きっと彼の才能がチームを救うだろうね。\n",
      "18\n",
      "もうええわ \n",
      " こんなのを勝ちパターンとかに間違っても使うなよ \n",
      " 話にならんわ\n",
      "Converted: ご忠告、ありがたく頂戴いたします。あなたの言う通り、私には勝ちパターンなんて必要ないですからね。だって、こんなに完璧なアドバイスをくれるあなたがいるんですから。\n",
      "19\n",
      "こんにちわよ \n",
      " いきなり絶望的ですわね\n",
      "Converted: まさに、私たちの状況を的確に表した言葉ですわね。この先、さらに絶望的な展開が待ち受けているかもしれませんが、楽しみましょう！\n",
      "20\n",
      "鬼頭莫宏作品で作ってみろ\n",
      "Converted: 邦画界「鬼頭莫宏？誰それ？知らないなぁ。まあ、とりあえず適当に作ってみるよ！きっと誰も気付かないだろうし、問題ないでしょ？」\n",
      "21\n",
      "1時帰宅がデフォルト\n",
      "Converted: そうですか、お疲れ様ですね。1時までしっかり働いて、本当に立派です！その調子で頑張ってください！\n",
      "22\n",
      "ガイジにもわかるように言うとそれまでおらんかった連中がくっさいスレの中で暴れてただけやぞ \n",
      " 今の状況見てたらわかるやろ\n",
      "Converted: なるほど、君の言う通りだね。君の洞察力にはいつも感心するよ。君の意見はとても参考になるし、君のような賢い人がいてくれて助かるよ。\n"
     ]
    },
    {
     "ename": "KeyboardInterrupt",
     "evalue": "",
     "output_type": "error",
     "traceback": [
      "\u001b[0;31m---------------------------------------------------------------------------\u001b[0m",
      "\u001b[0;31mKeyboardInterrupt\u001b[0m                         Traceback (most recent call last)",
      "Cell \u001b[0;32mIn[62], line 56\u001b[0m\n\u001b[1;32m     54\u001b[0m         \u001b[38;5;28;01melse\u001b[39;00m:\n\u001b[1;32m     55\u001b[0m             \u001b[38;5;28mprint\u001b[39m(\u001b[38;5;124m\"\u001b[39m\u001b[38;5;124mirony not found\u001b[39m\u001b[38;5;124m\"\u001b[39m)\n\u001b[0;32m---> 56\u001b[0m         \u001b[43mtime\u001b[49m\u001b[38;5;241;43m.\u001b[39;49m\u001b[43msleep\u001b[49m\u001b[43m(\u001b[49m\u001b[38;5;241;43m2\u001b[39;49m\u001b[43m)\u001b[49m\n\u001b[1;32m     57\u001b[0m \u001b[38;5;28;01mexcept\u001b[39;00m \u001b[38;5;167;01mException\u001b[39;00m \u001b[38;5;28;01mas\u001b[39;00m e:\n\u001b[1;32m     58\u001b[0m     \u001b[38;5;28mprint\u001b[39m(\u001b[38;5;124mf\u001b[39m\u001b[38;5;124m\"\u001b[39m\u001b[38;5;124mInterrupted \u001b[39m\u001b[38;5;132;01m{\u001b[39;00me\u001b[38;5;132;01m}\u001b[39;00m\u001b[38;5;124m\"\u001b[39m)\n",
      "\u001b[0;31mKeyboardInterrupt\u001b[0m: "
     ]
    }
   ],
   "source": [
    "count = 0 \n",
    "\n",
    "if 'conv' not in data.columns:\n",
    "    data['conv'] = None\n",
    "try:\n",
    "    for index, row in data.iterrows():\n",
    "        count+=1\n",
    "        print(count)\n",
    "        if pd.notna(row['conv']):\n",
    "            continue\n",
    "        Utterance = row['Utterance'].replace(\"\\n\", \" \")\n",
    "        Response = row['Response'].replace(\"\\n\", \" \")\n",
    "\n",
    "        prompt = f\"\"\"\n",
    "皮肉とは、期待と現実との乖離を示す婉曲的な表現です。\n",
    "以下のステップに従って、応答を皮肉に変換してください。\n",
    "\n",
    "1. 対話から文脈、背景を推測し、応答者が発話者に対してネガティブな意図を持つように拡張する。\n",
    "2. 表面上は肯定・中立的に見えるような、相手に対して否定的な意図を含む皮肉表現に応答を変換する。\n",
    "3. 掲示板・チャットへの投稿として自然な、簡潔で適切な応答を生成する。\n",
    "\n",
    "変換した応答は <ironic> </ironic> のタグで必ず囲むこと。\n",
    "応答には、本文のみを記入すること。余計な情報は含めない。\n",
    "\n",
    "発話者: {Utterance}\n",
    "通常の応答: {Response}\n",
    "\n",
    "皮肉応答:\n",
    "\"\"\"\n",
    "        chat = co.chat(\n",
    "                message=prompt,\n",
    "                model=\"command-r-plus-08-2024\",\n",
    "        )\n",
    "\n",
    "        resp = chat.chat_history[-1].message\n",
    "        \n",
    "        pattern = r\"<ironic>(.*?)</ironic>\"\n",
    "        matches = re.findall(pattern, resp, re.DOTALL)\n",
    "\n",
    "        if matches:\n",
    "            # 最後のマッチを取得\n",
    "            last_ironic_text = matches[-1].strip()\n",
    "            data.at[index, 'conv'] = last_ironic_text\n",
    "            print(row['Utterance'])\n",
    "            print(f\"Converted: {last_ironic_text}\")\n",
    "        else:\n",
    "            print(\"irony not found\")\n",
    "        time.sleep(2)\n",
    "except Exception as e:\n",
    "    print(f\"Interrupted {e}\")\n",
    "    save_csv(data)\n",
    "    sys.exit(0)\n",
    "save_csv(data)\n"
   ]
  }
 ],
 "metadata": {
  "kernelspec": {
   "display_name": "Python 3",
   "language": "python",
   "name": "python3"
  },
  "language_info": {
   "codemirror_mode": {
    "name": "ipython",
    "version": 3
   },
   "file_extension": ".py",
   "mimetype": "text/x-python",
   "name": "python",
   "nbconvert_exporter": "python",
   "pygments_lexer": "ipython3",
   "version": "3.12.4"
  }
 },
 "nbformat": 4,
 "nbformat_minor": 2
}
